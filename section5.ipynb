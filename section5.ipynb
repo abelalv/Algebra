{
 "cells": [
  {
   "cell_type": "markdown",
   "id": "93c33152",
   "metadata": {},
   "source": [
    "# Mínimos cuadrados \n",
    "\n",
    "Supongamos que tenemos un sistema de tres ecuaciones y dos incognitas como el siguiente \n",
    "$$\\begin{cases}x_1+x_2=2\\\\\n",
    "x_1-x_2=1\\\\\n",
    "x_1+x_2=3\\end{cases},$$\n",
    "este sistema lo podemos escribir en forma matricial $Ax=b$ de la siguiente forma \n",
    "\n",
    "$$\\begin{bmatrix}1&1\\\\1&-1\\\\1&1\\end{bmatrix}\\begin{bmatrix}x_1\\\\x_2\\end{bmatrix}=\\begin{bmatrix}2\\\\1\\\\3\\end{bmatrix}.$$\n",
    "\n",
    "Note que esto lo podemos escribir como \n",
    "\n",
    "$$\\begin{bmatrix}1\\\\1\\\\1\\end{bmatrix}x_1+\\begin{bmatrix}1\\\\-1\\\\1\\end{bmatrix}x_2=\\begin{bmatrix}2\\\\1\\\\3\\end{bmatrix}.$$\n",
    "\n",
    "De esta forma lo que queremos es encontrar la proyección del vertor $\\begin{bmatrix}2\\\\1\\\\3\\end{bmatrix}$\n",
    "en el generado por el conjunto de vectores $$\\Big\\{\\begin{bmatrix}1\\\\1\\\\1\\end{bmatrix},\\begin{bmatrix}1\\\\-1\\\\1\\end{bmatrix}\\Big\\}$$\n",
    "\n",
    "Gráficamente lo podemos interpretar como muestra la siguiente gráfica\n",
    "\n",
    "<img src=\"Gra5\\vec1.png\" alt=\"term-document matrix\" style=\"width: 50%\"/>\n",
    "\n",
    "\n"
   ]
  },
  {
   "cell_type": "code",
   "execution_count": null,
   "id": "0f032f8e",
   "metadata": {},
   "outputs": [],
   "source": []
  }
 ],
 "metadata": {
  "kernelspec": {
   "display_name": "Python 3 (ipykernel)",
   "language": "python",
   "name": "python3"
  },
  "language_info": {
   "codemirror_mode": {
    "name": "ipython",
    "version": 3
   },
   "file_extension": ".py",
   "mimetype": "text/x-python",
   "name": "python",
   "nbconvert_exporter": "python",
   "pygments_lexer": "ipython3",
   "version": "3.9.7"
  }
 },
 "nbformat": 4,
 "nbformat_minor": 5
}
