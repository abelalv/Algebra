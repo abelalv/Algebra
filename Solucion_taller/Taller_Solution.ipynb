{
 "cells": [
  {
   "cell_type": "markdown",
   "metadata": {},
   "source": [
    "# Firts  point"
   ]
  },
  {
   "cell_type": "markdown",
   "metadata": {},
   "source": [
    "Solve the system (4.37) by using Multivariate Newton’s Method. Find the receiver\n",
    "position (x, y, z) near earth and time correction d for known, simultaneous satellite\n",
    "positions (15600, 7540, 20140), (18760, 2750, 18610), (17610, 14630, 13480),\n",
    "(19170, 610, 18390) in km, and measured time intervals 0.07074, 0.07220,\n",
    "0.07690, 0.07242 in seconds, respectively. Set the initial vector to be\n",
    "(x 0 , y 0 , z 0 , d 0 ) = (0, 0, 6370, 0). As a check, the answers are approximately\n",
    "(x, y, z) = (−41.77271, −16.78919, 6370.0596), and d = −3.201566 × 10 −3 seconds."
   ]
  },
  {
   "cell_type": "code",
   "execution_count": 2,
   "metadata": {},
   "outputs": [],
   "source": [
    "import  numpy as np\n",
    "import scipy.linalg as la\n",
    "\n",
    "# Error function  construction\n",
    "\n",
    "def FR(x1,C):\n",
    "    c = 299792.458  # speed of light in km/s\n",
    "    x=x1[0]\n",
    "    y=x1[1]\n",
    "    z=x1[2]\n",
    "    d=x1[3]\n",
    "    R=(x-C[:,0])**2+ (y-C[:,1])**2+(z-C[:,2])**2-c**2*(C[:,3]-d)**2\n",
    "    return R\n",
    "\n",
    "# Jacobian error function  construction \n",
    "def DFR(x1,C):\n",
    "    c = 299792.458  # speed of light in km/s\n",
    "    x=x1[0]\n",
    "    y=x1[1]\n",
    "    z=x1[2]\n",
    "    d=x1[3]\n",
    "    N=len(C[:,1])\n",
    "\n",
    "    s1=np.zeros([N,4])\n",
    "    s1[:,0]=2.0*(x-C[:,0])\n",
    "    s1[:,1]=2.0*(y-C[:,1])\n",
    "    s1[:,2]=2.0*(z-C[:,2])\n",
    "    s1[:,3]=2*c**2*(C[:,3]-d)\n",
    "    return s1\n",
    "\n",
    "def newton_gauss(FR,DFR,tol,N,x0,C):\n",
    "    for i in range(N):\n",
    "        A=DFR(x0,C)\n",
    "        F1=FR(x0,C)\n",
    "        F1=A.T@FR(x0,C)\n",
    "        A=A.T@A\n",
    "        if abs(la.det(A))  < 10**-9:\n",
    "            print('El sistema no se puede resolver, porque A es singular,intente otro punto inicial')\n",
    "            break\n",
    "        x=la.solve(A,-F1)\n",
    "        if np.linalg.norm(x) < tol:\n",
    "            print('el sistema se soluciono en la iteracion:',i)\n",
    "            break\n",
    "        x0=x0+x\n",
    "        \n",
    "        return x\n",
    "\n",
    "\n"
   ]
  },
  {
   "cell_type": "code",
   "execution_count": 4,
   "metadata": {},
   "outputs": [
    {
     "name": "stdout",
     "output_type": "stream",
     "text": [
      "[-4.17733669e+01 -1.67510571e+01  5.18313453e+00 -3.26271451e-03]\n"
     ]
    }
   ],
   "source": [
    "C=np.zeros([4,4])\n",
    "C[0,:]=np.array([15600,7540,20140,0.07074])\n",
    "C[1,:]=np.array([18760,2750,18610,0.07220])\n",
    "C[2,:]=np.array([17610,14630,13480,0.07690])\n",
    "C[3,:]=np.array([19170,610,18390,0.07242])\n",
    "\n",
    "\n",
    "# the varible C is a matrix\n",
    "# C[:,0] first column of matrix has  information of 1 cordiante of each satellite\n",
    "# C[:,1] Second column of matrix has  information of 2 cordiante of each satellite\n",
    "# C[:,2] third column of matrix has  information of 3 cordiante of each satellite\n",
    "# C[:,3] fourth column of matrix has  information of time od each satillite\n",
    "\n",
    "\n",
    "tol=1e-1\n",
    "N=2000\n",
    "#inital point\n",
    "x0=np.array([0, 0, 6370, 0])\n",
    "x=newton_gauss(FR,DFR,1e-1,100,x0,C)\n",
    "print(x)"
   ]
  },
  {
   "cell_type": "code",
   "execution_count": 5,
   "metadata": {},
   "outputs": [
    {
     "name": "stdout",
     "output_type": "stream",
     "text": [
      "[7.77053938e+01 1.63153811e+02 4.00873497e+02 1.29433933e-03]\n"
     ]
    }
   ],
   "source": [
    "C=np.zeros([4,4])\n",
    "C[0,:]=np.array([7194.3,-786.786,25565,0.0685])\n",
    "C[1,:]=np.array([-6076.6,9078.5,24220,\t0.0699])\n",
    "C[2,:]=np.array([12587\t,10119,\t21098,\t0.073])\n",
    "C[3,:]=np.array([2834.4,\t-2673.3,\t26283,\t0.0678])\n",
    "x0=np.array([0, 0, 6370, 1.0e-4])\n",
    "x=newton_gauss(FR,DFR,1e-5,100,x0,C)\n",
    "print(x)"
   ]
  },
  {
   "cell_type": "markdown",
   "metadata": {},
   "source": [
    "# Second point\n",
    "\n"
   ]
  },
  {
   "cell_type": "markdown",
   "metadata": {},
   "source": [
    "# Fourt point"
   ]
  },
  {
   "cell_type": "markdown",
   "metadata": {},
   "source": [
    "Now set up a test of the conditioning of the GPS problem. Define satellite positions\n",
    "$(A_i , B_i , C_i )$ from spherical coordinates $(\\rho,\\phi_i ,\\theta_i )$ as\n",
    "$$A_i = \\rho\\cos \\phi_i  \\cos \\theta_i$$\n",
    "$$B_i = \\rho\\cos \\phi_i \\sin \\theta_i$$\n",
    "$$C_i = \\rho \\sin \\phi_i,$$"
   ]
  },
  {
   "cell_type": "markdown",
   "metadata": {},
   "source": [
    "where $\\rho = 26570$ km is fixed, while $0\\leq \\phi_1\\leq\\pi/2$  and $0 \\leq \\theta_i \\theta\\leq 2*\\pi$ for $i = 1,\\dots, 4$ are\n",
    "chosen arbitrarily. The $\\phi$ coordinate is restricted so that the four satellites are in the\n",
    "upper hemisphere. Set $x = 0$, $y = 0$, $z = 6370$, $d = 0.0001$, and calculate the\n",
    "corresponding satellite ranges $R_i = \\sqrt{A_i^2 + B_i^2 + (C_i − 6370)^2}$ and travel times\n",
    "$t_i = d + R_i /c$."
   ]
  },
  {
   "cell_type": "code",
   "execution_count": 6,
   "metadata": {},
   "outputs": [],
   "source": [
    "from numpy.random import default_rng\n",
    "def coord_spherical(X=np.array([0,0,6370,-3.201566e-3]), n_satelites=4):\n",
    "    # n_satelites = number of satelites\n",
    "    # X = vector of random numbers\n",
    "    #x[0]=position in x\n",
    "    #x[1]=position in y\n",
    "    #x[2]=position in z\n",
    "    #x[3]=time correction\n",
    "    rho = 26570\n",
    "    rng = np.random.default_rng(seed=42) # semente  \n",
    "    c = 299792.458 #velocidad de la luz\n",
    "    \n",
    "    Ai = np.zeros([n_satelites,1])\n",
    "    Bi = np.zeros([n_satelites,1])\n",
    "    Ci = np.zeros([n_satelites,1])\n",
    "    ti = np.zeros([n_satelites,1])\n",
    "    for i in range(n_satelites):\n",
    "        phi_max = np.pi/2\n",
    "        phi = (phi_max-0)*rng.random((1, 1)) + 0\n",
    "\n",
    "        theta_max = 2*np.pi\n",
    "        theta = (theta_max-0)*rng.random((1, 1)) + 0\n",
    "\n",
    "        Ai[i] = rho*np.cos(phi)*np.cos(theta)\n",
    "        Bi[i] = rho*np.cos(phi)*np.sin(theta)\n",
    "        Ci[i] = rho*np.sin(phi)\n",
    "        R = np.sqrt((Ai[i]-X[0])**2 + (Bi[i]-X[1])**2 + (Ci[i]-X[3])**2)\n",
    "      \n",
    "        ti[i] = X[3] + R / c\n",
    "   \n",
    "    \n",
    "    Matrix=np.zeros([n_satelites,4])\n",
    "    Matrix[:,0]=Ai.T\n",
    "    Matrix[:,1]=Bi.T\n",
    "    Matrix[:,2]=Ci.T\n",
    "    Matrix[:,3]=ti.T\n",
    "    \n",
    "    # each line of the matrix has information of each satelite (x,y,z,time)\n",
    "    return Matrix\n"
   ]
  },
  {
   "cell_type": "code",
   "execution_count": 9,
   "metadata": {},
   "outputs": [
    {
     "name": "stdout",
     "output_type": "stream",
     "text": [
      "413.6531166459463\n"
     ]
    }
   ],
   "source": [
    "def point_4():\n",
    "    global_max = 0\n",
    "    max_error_pos = 0\n",
    "    tol=1e-15\n",
    "    N_max_ite=200\n",
    "    c = 299792.458 #speed of light in km/s\n",
    "    n_satelites=4\n",
    "    total_cases=2**n_satelites\n",
    "    X=[0,0,6370,0.0001]\n",
    "    sphe = coord_spherical(X,n_satelites)\n",
    "    X1=newton_gauss(FR,DFR,tol, N_max_ite,x0,sphe)\n",
    "    for cases in range(total_cases):\n",
    "        \n",
    "        t=sphe[:,3]\n",
    "        \n",
    "        signo=(2 * np.random.randint (0,2, size = (n_satelites)) - 1)\n",
    "        dt=1e-8*signo\n",
    "        new_t = t + dt\n",
    "        sphe[:,3]=new_t\n",
    "        x=newton_gauss(FR,DFR,tol, N_max_ite,x0,sphe)\n",
    "       \n",
    "\n",
    "\n",
    "        #factor de magnificacion del error\n",
    "        f_error = np.linalg.norm(x[1:3] - X1[1:3],np.inf)\n",
    "        b_error = c*1e-8\n",
    "        emf = f_error/b_error\n",
    "        if emf > global_max:\n",
    "            global_max = emf #se guarda el valor maximo de emf\n",
    "            max_error_pos = f_error #se guarda el valor maximo de error de posicion\n",
    "    return global_max, max_error_pos\n",
    "\n",
    "global_max, max_error_pos = point_4()\n",
    "max_error_pos_4 = max_error_pos*1000\n",
    "print(max_error_pos_4)"
   ]
  },
  {
   "cell_type": "code",
   "execution_count": 70,
   "metadata": {},
   "outputs": [
    {
     "name": "stdout",
     "output_type": "stream",
     "text": [
      "879.644302323868\n"
     ]
    }
   ],
   "source": []
  }
 ],
 "metadata": {
  "interpreter": {
   "hash": "36c945bdd26d43a545582ebd6d1ab513809fa467408b2d3fe283365074f8e6e2"
  },
  "kernelspec": {
   "display_name": "Python 3.10.4 ('class')",
   "language": "python",
   "name": "python3"
  },
  "language_info": {
   "codemirror_mode": {
    "name": "ipython",
    "version": 3
   },
   "file_extension": ".py",
   "mimetype": "text/x-python",
   "name": "python",
   "nbconvert_exporter": "python",
   "pygments_lexer": "ipython3",
   "version": "3.9.7"
  },
  "orig_nbformat": 4
 },
 "nbformat": 4,
 "nbformat_minor": 2
}
